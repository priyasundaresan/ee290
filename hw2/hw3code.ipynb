{
 "cells": [
  {
   "cell_type": "code",
   "execution_count": 1,
   "metadata": {},
   "outputs": [],
   "source": [
    "import numpy as np\n",
    "import matplotlib.pyplot as plt\n",
    "from __future__ import print_function\n",
    "import pprint\n",
    "from numpy.linalg import matrix_rank\n",
    "from scipy import signal\n",
    "import cvxpy"
   ]
  },
  {
   "cell_type": "markdown",
   "metadata": {},
   "source": [
    "## Projected Subgradient"
   ]
  },
  {
   "cell_type": "code",
   "execution_count": 2,
   "metadata": {},
   "outputs": [],
   "source": [
    "def l1_threshold(x, k):\n",
    "    idxs = np.argpartition(np.abs(x), -k)[:-k]\n",
    "    x[idxs] = 0\n",
    "    return x\n",
    "\n",
    "def run_projected_subgradient(A, y, x0, iters=10000, verbose=True):\n",
    "    m, n = A.shape\n",
    "    k = np.count_nonzero(x0)\n",
    "    A_pseudo = A.T.dot(np.linalg.inv(A.dot(A.T)))\n",
    "    gamma = np.eye(n) - A_pseudo.dot(A)\n",
    "    x_hat = A_pseudo.dot(y)\n",
    "    x = np.zeros(n)\n",
    "    for i in range(iters):\n",
    "        t = i+1\n",
    "        x = x_hat + gamma.dot(x - (np.sign(x)/t)) \n",
    "        x = l1_threshold(x, k)\n",
    "        error = np.linalg.norm(x - x0)\n",
    "        if t%1000 == 0:\n",
    "            if verbose:\n",
    "                print('[%d, %5d] loss: %.6f' % (t, iters, error))\n",
    "    return error"
   ]
  },
  {
   "cell_type": "code",
   "execution_count": null,
   "metadata": {},
   "outputs": [
    {
     "name": "stdout",
     "output_type": "stream",
     "text": [
      "m: 0\n",
      "m: 2\n",
      "m: 4\n",
      "m: 6\n",
      "m: 8\n",
      "m: 10\n",
      "m: 12\n",
      "m: 14\n",
      "m: 16\n",
      "m: 18\n",
      "m: 20\n",
      "m: 22\n",
      "m: 24\n",
      "m: 26\n"
     ]
    }
   ],
   "source": [
    "n = 50\n",
    "step = 2 \n",
    "runs_per = 5\n",
    "error_thresh = 1e-3\n",
    "\n",
    "deltas = []\n",
    "etas = []\n",
    "successes = []\n",
    "\n",
    "for m in range(0, n+1, step):\n",
    "    print(\"m:\", m)\n",
    "    for k in reversed(range(0, n+1, step)):\n",
    "        delta = m/float(n)\n",
    "        eta = k/float(n)\n",
    "        num_successes = 0\n",
    "        for i in range(runs_per):\n",
    "            A = np.random.randn(m, n)/(n**0.5) \n",
    "            pos_idxs = np.random.choice(n, k, replace=False)\n",
    "            x0 = np.zeros(n)\n",
    "            x0[pos_idxs] = np.random.randn(k)\n",
    "            y = A.dot(x0)\n",
    "            error = run_projected_subgradient(A, y, x0, verbose=False)\n",
    "            num_successes += 1 if error<error_thresh else 0\n",
    "        deltas.append(delta)\n",
    "        etas.append(eta)\n",
    "        successes.append(num_successes/float(runs_per))"
   ]
  },
  {
   "cell_type": "code",
   "execution_count": null,
   "metadata": {},
   "outputs": [],
   "source": [
    "successes = np.array(successes)\n",
    "deltas = np.array(deltas)\n",
    "etas = np.array(etas)\n",
    "heatmap = successes.reshape((n//step)+1, (n//step)+1)\n",
    "plt.title(\"Fraction of Correct Recoveries for n=50\")\n",
    "plt.imshow(heatmap, interpolation='bilinear', extent=[np.amin(deltas),np.amax(deltas),np.amin(etas),np.amax(etas)])\n",
    "plt.xlabel(\"Sampling ratio: m/n\")\n",
    "plt.colorbar()\n",
    "plt.ylabel(\"Fraction of Nonzero Entries: k/n\")"
   ]
  },
  {
   "cell_type": "markdown",
   "metadata": {},
   "source": [
    "## 5.2 Phase Transition in Sparse Recovery with Gaussian Matrices"
   ]
  },
  {
   "cell_type": "markdown",
   "metadata": {},
   "source": [
    "I ran experiments with n=50 and varied m and k with respect to n=50 in intervals of 5. For each combination of (m, k), I ran 5 experiments and averaged the success over those trials, resulting in the interpolate phase diagram above. We see that it mirrors that of Figure 3.15 where the top left region is especially hard and bottom right is easiest recovery."
   ]
  },
  {
   "cell_type": "markdown",
   "metadata": {},
   "source": [
    "## 5.1  Phase Transition in Sparse Recovery with Gaussian Matrices"
   ]
  }
 ],
 "metadata": {
  "kernelspec": {
   "display_name": "189-hw",
   "language": "python",
   "name": "189-hw"
  },
  "language_info": {
   "codemirror_mode": {
    "name": "ipython",
    "version": 2
   },
   "file_extension": ".py",
   "mimetype": "text/x-python",
   "name": "python",
   "nbconvert_exporter": "python",
   "pygments_lexer": "ipython2",
   "version": "2.7.16"
  }
 },
 "nbformat": 4,
 "nbformat_minor": 4
}
